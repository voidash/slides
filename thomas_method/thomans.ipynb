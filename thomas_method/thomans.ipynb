{
 "cells": [
  {
   "cell_type": "markdown",
   "metadata": {},
   "source": [
    "# Thomas Method\n",
    "\n",
    "\n",
    "Thomas method is used when we can represent the equations in tridiagonal form. For example the equation can be represented in tridiagonal form \n",
    "\n",
    "$2x_1 - x_2 = 1$ \n",
    "\n",
    "$-x_1 + 2x_2 - x_3 = 0$ \n",
    "\n",
    "$-x_2 - 2x_3 - x_4 = 1$ \n",
    "\n",
    "$-x_3 - 2x_4 = 1$ \n",
    "\n",
    "\n",
    "\n",
    "### Tridiagonal Matrix \n",
    "\n",
    "A tridiagonal matrix has non zero main diagonal , upper diagonal and lower diagonal values. All other values are zero \n",
    "\n",
    "$$\n",
    "\\begin{pmatrix}\n",
    "2 & -1 & 0 & 0 \\\\\n",
    "-1 & 2 & -1 & 0 \\\\\n",
    "0 & -1 & 2 & -1 \\\\\n",
    "0 & 0 & -1 & 2 \\\\\n",
    "\\end{pmatrix}\n",
    "\n",
    "$$\n"
   ]
  },
  {
   "cell_type": "code",
   "execution_count": 14,
   "metadata": {},
   "outputs": [],
   "source": [
    "import numpy as np\n",
    "\n",
    "# solving for 4 equations\n",
    "n = 4\n",
    "\n",
    "lhs = np.array([[2,-1,0,0],[-1,2,-1,0],[0,-1,2,-1],[0,0,-1,2]])\n",
    "\n",
    "# r1, r2, r3, r4\n",
    "rhs = [1,0,0,1]"
   ]
  },
  {
   "cell_type": "markdown",
   "metadata": {},
   "source": [
    "\n",
    "\n",
    "Now if we assume that $a$ represents $upper\\ diagonal$ , $b$ represents $lower\\ diagonal$ and $d$ represents $diagonal$ for a $4\\times4$ matrix  then\n",
    "\n",
    "\n",
    "$$\n",
    "\\begin{pmatrix}\n",
    "d_{00} & a_{01} & 0 & 0 \\\\\n",
    "b_{10} & d_{11} & a_{12} & 0 \\\\\n",
    "0 & b_{21} & d_{22} & a_{23} \\\\\n",
    "0 & 0 & b_{32} & d_{33} \\\\\n",
    "\\end{pmatrix}\n",
    "$$\n",
    "\n",
    "if $ i \\times j $ represent the matrix then $i$ is row and $j$ is column\n",
    "- for diagonal (d):  `i == j`  \n",
    "- for upper diagonal (a):  `i+1 == j`  \n",
    "- for lower diagonal (b):  `i == j+1`  \n",
    "\n",
    " "
   ]
  },
  {
   "cell_type": "code",
   "execution_count": 15,
   "metadata": {},
   "outputs": [
    {
     "name": "stdout",
     "output_type": "stream",
     "text": [
      "b is [0, -1, -1, -1]\n",
      "d is [2, 2, 2, 2]\n",
      "a is [-1, -1, -1, 0]\n",
      "r is [1, 0, 0, 1]\n"
     ]
    }
   ],
   "source": [
    "\n",
    "b = []\n",
    "d = []\n",
    "a = []\n",
    "\n",
    "# extract b,d and a from the lhs  \n",
    "for row_index,row in enumerate(lhs):\n",
    "    for col_index,val in enumerate(row):\n",
    "        if row_index == col_index:\n",
    "            d.append(val)\n",
    "        elif row_index + 1 == col_index:\n",
    "            a.append(val)\n",
    "        elif row_index == col_index + 1:\n",
    "            b.append(val)\n",
    "\n",
    "\n",
    "\n",
    "# for a insert 0 at the end  as there is no 3,4 in 4x4 matrix\n",
    "a.append(0)\n",
    "# for b insert 0 at the start as there is no -1,0 in 4x4 matrix\n",
    "b.insert(0, 0)\n",
    "\n",
    "print(f'b is {b}')\n",
    "print(f'd is {d}')\n",
    "print(f'a is {a}')\n",
    "print(f'r is {rhs}')"
   ]
  },
  {
   "cell_type": "markdown",
   "metadata": {},
   "source": [
    "Since `r.len()` is 4 we need 4 iterations and for first iteration the formula is \n",
    "# for first iteration \n",
    "$$\n",
    "a0=\\frac{a0}{d0}\n",
    "$$\n",
    "\n",
    "$$\n",
    "r0= \\frac{r0}{d0}\n",
    "$$\n",
    "\n",
    "#### For other iterations\n",
    "$$\n",
    "a_i = \\frac{a_i}{d_i - a_{i-1}b_i}$$\n",
    "$$\n",
    "r_i = \\frac{r_i-b_ir_{i-1}}{d_i - a_{i-1}b_i}\n",
    "$$"
   ]
  },
  {
   "cell_type": "code",
   "execution_count": 16,
   "metadata": {},
   "outputs": [
    {
     "name": "stdout",
     "output_type": "stream",
     "text": [
      "0th iteration a = -0.5 , r = 0.5\n",
      "1th iteration a = -0.6666666666666666 , r = 0.3333333333333333\n",
      "2th iteration a = -0.7499999999999999 , r = 0.24999999999999997\n",
      "3th iteration a = 0.0 , r = 1.0\n",
      "a is [-0.5, -0.6666666666666666, -0.7499999999999999, 0.0]\n",
      "r is [0.5, 0.3333333333333333, 0.24999999999999997, 1.0]\n"
     ]
    }
   ],
   "source": [
    "a_val = []\n",
    "r_val = []\n",
    "for i in range(0, 4):\n",
    "    if i != 0:\n",
    "        x = a[i] / (d[i] - b[i]*a[i-1])\n",
    "        y = (rhs[i] - b[i]*rhs[i-1])/(d[i] - b[i]*a[i-1])\n",
    "    else:\n",
    "        x = a[i] / d[i]\n",
    "        y = rhs[i] / d[i]\n",
    "\n",
    "    print(\"{}th iteration a = {} , r = {}\".format(i,x,y))\n",
    "\n",
    "    a_val.append(x)\n",
    "    r_val.append(y)\n",
    "\n",
    "    # use the updated value instead of old one in next iteration\n",
    "    a[i] = x\n",
    "    rhs[i] = r_val[i]\n",
    "\n",
    "\n",
    "#newly calculated a_val and r_val\n",
    "print(f'a is {a_val}')\n",
    "print(f'r is {r_val}')"
   ]
  },
  {
   "cell_type": "markdown",
   "metadata": {},
   "source": [
    "Now to get the values of X, we will be using Bottom up approach as we know $r[3] = x[3]$\n",
    "\n",
    "for $x_{n-1}$ we have \n",
    "\n",
    "$$x_{n-1} = r_{n-1} - a_{n-1}x_{n}$$\n",
    "\n"
   ]
  },
  {
   "cell_type": "code",
   "execution_count": 17,
   "metadata": {},
   "outputs": [
    {
     "name": "stdout",
     "output_type": "stream",
     "text": [
      "[0. 1. 1. 1.]\n"
     ]
    }
   ],
   "source": [
    "# to actually calculate the values of x \n",
    "# xn = rn \n",
    "x = np.zeros(n)\n",
    "x[n-1] = r_val[n-1]\n",
    "\n",
    "for i in range(n-2,0,-1):\n",
    "    x[i] = (r_val[i] - a_val[i]*x[i+1])\n",
    "\n",
    "print(x)\n"
   ]
  }
 ],
 "metadata": {
  "interpreter": {
   "hash": "e7370f93d1d0cde622a1f8e1c04877d8463912d04d973331ad4851f04de6915a"
  },
  "kernelspec": {
   "display_name": "Python 3.10.4 64-bit",
   "language": "python",
   "name": "python3"
  },
  "language_info": {
   "codemirror_mode": {
    "name": "ipython",
    "version": 3
   },
   "file_extension": ".py",
   "mimetype": "text/x-python",
   "name": "python",
   "nbconvert_exporter": "python",
   "pygments_lexer": "ipython3",
   "version": "3.10.4"
  },
  "orig_nbformat": 4
 },
 "nbformat": 4,
 "nbformat_minor": 2
}
